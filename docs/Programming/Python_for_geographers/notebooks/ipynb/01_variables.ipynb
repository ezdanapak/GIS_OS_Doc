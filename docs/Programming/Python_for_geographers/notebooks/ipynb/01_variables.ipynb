{
 "cells": [
  {
   "cell_type": "markdown",
   "id": "42a14256-91c8-446e-92a7-ab6bf11055d3",
   "metadata": {},
   "source": [
    "# ცვლადები\n",
    "\n",
    "წარმოდგენილი პითონის კოდები შეგიძლია გამოსცადო ღრუბლოვან-გამოთვლით\n",
    "პლატფორმებზე, ყოველგვარი ინსტალაციის გარეშე კომპიუტერზე.\n",
    "\n",
    "[![image](https://colab.research.google.com/assets/colab-badge.svg)](https://colab.research.google.com/github/ezdanapak/GIS_OS_Doc/blob/master/docs/Programming/Python_for_geographers/notebooks/01_variables.ipynb)\n",
    "\n",
    "| **HCODE** |         **NAMN1**          |           **NAMA1**           |           **NAML1**            |\n",
    "|:-------:|:------------------:|:--------------------:|:---------------------:|\n",
    "|   GE-TB   |          თბილისი           |            Tbilisi            |            tbilisi             |\n",
    "|   GE-SZ   |   სამეგრელო-ზემო სვანეთი   |    Samegrelo-Zemo Svaneti     |     samegrelo-zemo svaneti     |\n",
    "|   GE-MM   |      მცხეთა-მთიანეთი       |       Mtskheta-Mtianeti       |       mtskheta-mtianeti        |\n",
    "|   GE-KA   |           კახეთი           |            Kakheti            |            k’akheti            |\n",
    "|   GE-GU   |           გურია            |             Guria             |             guria              |\n",
    "|   GE-RL   | რაჭა-ლეჩხუმი-ქვემო სვანეთი | Racha-Lechkhumi-Kvemo Svaneti | rach’a-lechkhumi-kvemo svaneti |\n",
    "|   GE-KK   |        ქვემო ქართლი        |         Kvemo Kartli          |          kvemo kartli          |\n",
    "|   GE-SJ   |      სამცხე-ჯავახეთი       |      Samtskhe-Javakheti       |       samtskhe-javakheti   \n",
    "    |\n",
    "|   GE-AJ   |           აჭარა            |            Adjara             |            ach’ara             |\n",
    "|   GE-IM   |          იმერეთი           |            Imereti            |            imereti             |\n",
    "|   GE-SK   |        შიდა ქართლი         |         Shida Kartli          |          shida kartli          |\n",
    "|   GE-AB   |          აფხაზეთი          |           Apkhazeti           |           apkhazeti            |\n"
   ]
  },
  {
   "cell_type": "markdown",
   "id": "d0f12a2e",
   "metadata": {},
   "source": [
    "ტექსტური ტიპის მონაცემები - Strings\n",
    "ტექსტი ეს არის მიმდევრობა ასოების, რიცხვების და პუნქტუაციის ნიშნების - text_123\n",
    "\n",
    "პითონში შესაძლებელია ტექსტური ტიპის ინფორმაციის შექმნა ერთ ან ორმაგ ბრჭყალებში"
   ]
  },
  {
   "cell_type": "code",
   "execution_count": null,
   "id": "3c2f747c",
   "metadata": {},
   "outputs": [],
   "source": [
    "city = 'Chiatura'\n",
    "region = 'Imereti'\n",
    "print(city, region)\n",
    "\n",
    "#პრინტ ფუნქცია დაბეჭდავს >  Chiatura Imereti"
   ]
  },
  {
   "cell_type": "code",
   "execution_count": null,
   "id": "401aa18f",
   "metadata": {},
   "outputs": [],
   "source": [
    "print(city +' '+region)\n",
    "\n",
    "#პრინტ ფუნქცია დაბეჭდავს და შუაში დამატებით სივრცე ექნება >  Chiatura Imereti "
   ]
  },
  {
   "cell_type": "code",
   "execution_count": null,
   "id": "1ca2ca54",
   "metadata": {},
   "outputs": [],
   "source": [
    "print(city + ',' + region)\n",
    "\n",
    "#პრინტ ფუნქცია დაბეჭდავს შუაში მძიმით  >  Chiatura,Imereti "
   ]
  },
  {
   "cell_type": "markdown",
   "id": "be03b8c9",
   "metadata": {},
   "source": [
    "რიცხვითი ტიპის მონაცემები - Numbers\n",
    "პითონი მუშაობს სხვადასხვა ტიპის რიცხვებთან, მათგან ყველაზე გავრცელებულია:\n",
    "\n",
    "int, მთელი რიცხვები, მაგალითად 100,\n",
    "float, ასევე ათწილადი, 0.5"
   ]
  },
  {
   "cell_type": "code",
   "execution_count": null,
   "id": "f89eb076",
   "metadata": {},
   "outputs": [],
   "source": [
    "population = 12049\n",
    "latitude =  42.289449\n",
    "longitude =  43.284585\n",
    "\n",
    "print(type(latitude))\n",
    "\n",
    "#პრინტ ფუნქცია დაბეჭდავს latitude ცვლადში არსებულ მონაცემის ტიპს \n",
    "#42.289449, ანუ ათწილადი <class 'float'>"
   ]
  },
  {
   "cell_type": "code",
   "execution_count": null,
   "id": "1badc444",
   "metadata": {},
   "outputs": [],
   "source": [
    "area_sqkm = 54.5\n",
    "density = population / area_sqkm\n",
    "print(density)\n",
    "\n",
    "#პრინტ ფუნქცია დაბეჭდავს მოსახლეობის სიმჭიდროვეს 221.08256880733944"
   ]
  }
 ],
 "metadata": {
  "kernelspec": {
   "display_name": "Python 3",
   "language": "python",
   "name": "python3"
  },
  "language_info": {
   "name": "python",
   "version": "3.13.0"
  }
 },
 "nbformat": 4,
 "nbformat_minor": 5
}
