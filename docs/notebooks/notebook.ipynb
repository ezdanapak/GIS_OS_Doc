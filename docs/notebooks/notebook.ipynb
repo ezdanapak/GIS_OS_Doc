{
 "cells": [
  {
   "cell_type": "markdown",
   "metadata": {},
   "source": [
    "Hello"
   ]
  },
  {
   "cell_type": "code",
   "execution_count": null,
   "metadata": {},
   "outputs": [],
   "source": [
    "print('Hi')"
   ]
  },
  {
   "cell_type": "markdown",
   "metadata": {},
   "source": [
    "## Code Example: Escape Characters\n",
    "\n",
    "Below is a Python notebook with examples of escape characters.\n",
    "\n",
    "![Open in Colab](https://colab.research.google.com/assets/colab-badge.svg)](https://colab.research.google.com/github/your-github-username/your-repository/blob/main/notebooks/code_example.ipynb)\n",
    "\n",
    "Alternatively, you can view the code examples in the notebook below:\n",
    "\n",
    "{% notebook notebooks/code_example.ipynb %}\n"
   ]
  }
 ],
 "metadata": {
  "kernelspec": {
   "display_name": "Python 3.9 (XPython)",
   "language": "python",
   "name": "xpython"
  },
  "language_info": {
   "name": "python",
   "version": "3.9.11"
  }
 },
 "nbformat": 4,
 "nbformat_minor": 2
}
